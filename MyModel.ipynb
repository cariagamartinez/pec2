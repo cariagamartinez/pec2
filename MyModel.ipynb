{
 "cells": [
  {
   "cell_type": "code",
   "execution_count": 1,
   "id": "709d6708",
   "metadata": {},
   "outputs": [],
   "source": [
    "import pandas as pd\n",
    "import numpy as np\n",
    "import joblib\n",
    "from sklearn.pipeline import Pipeline\n",
    "from sklearn.model_selection import train_test_split\n",
    "from sklearn.naive_bayes import GaussianNB\n",
    "from feature_engine.selection import DropFeatures\n",
    "from feature_engine.imputation import MeanMedianImputer, AddMissingIndicator\n",
    "from feature_engine.encoding import OneHotEncoder"
   ]
  },
  {
   "cell_type": "code",
   "execution_count": 2,
   "id": "d01b4a55",
   "metadata": {},
   "outputs": [],
   "source": [
    "df = pd.read_csv(\"./titanic(2).csv\", delimiter = \";\")"
   ]
  },
  {
   "cell_type": "code",
   "execution_count": 3,
   "id": "27b1f0ac",
   "metadata": {},
   "outputs": [
    {
     "data": {
      "text/html": [
       "<div>\n",
       "<style scoped>\n",
       "    .dataframe tbody tr th:only-of-type {\n",
       "        vertical-align: middle;\n",
       "    }\n",
       "\n",
       "    .dataframe tbody tr th {\n",
       "        vertical-align: top;\n",
       "    }\n",
       "\n",
       "    .dataframe thead th {\n",
       "        text-align: right;\n",
       "    }\n",
       "</style>\n",
       "<table border=\"1\" class=\"dataframe\">\n",
       "  <thead>\n",
       "    <tr style=\"text-align: right;\">\n",
       "      <th></th>\n",
       "      <th>pclass</th>\n",
       "      <th>name</th>\n",
       "      <th>sex</th>\n",
       "      <th>age</th>\n",
       "      <th>sibsp</th>\n",
       "      <th>parch</th>\n",
       "      <th>ticket</th>\n",
       "      <th>fare</th>\n",
       "      <th>cabin</th>\n",
       "      <th>embarked</th>\n",
       "      <th>survived</th>\n",
       "    </tr>\n",
       "  </thead>\n",
       "  <tbody>\n",
       "    <tr>\n",
       "      <th>0</th>\n",
       "      <td>1</td>\n",
       "      <td>Allen, Miss. Elisabeth Walton</td>\n",
       "      <td>female</td>\n",
       "      <td>29.0000</td>\n",
       "      <td>0</td>\n",
       "      <td>0</td>\n",
       "      <td>24160</td>\n",
       "      <td>2113375.00</td>\n",
       "      <td>B5</td>\n",
       "      <td>S</td>\n",
       "      <td>1</td>\n",
       "    </tr>\n",
       "    <tr>\n",
       "      <th>1</th>\n",
       "      <td>1</td>\n",
       "      <td>Allison, Master. Hudson Trevor</td>\n",
       "      <td>male</td>\n",
       "      <td>0.9167</td>\n",
       "      <td>1</td>\n",
       "      <td>2</td>\n",
       "      <td>113781</td>\n",
       "      <td>151.55</td>\n",
       "      <td>C22 C26</td>\n",
       "      <td>S</td>\n",
       "      <td>1</td>\n",
       "    </tr>\n",
       "    <tr>\n",
       "      <th>2</th>\n",
       "      <td>1</td>\n",
       "      <td>Allison, Miss. Helen Loraine</td>\n",
       "      <td>female</td>\n",
       "      <td>2.0000</td>\n",
       "      <td>1</td>\n",
       "      <td>2</td>\n",
       "      <td>113781</td>\n",
       "      <td>151.55</td>\n",
       "      <td>C22 C26</td>\n",
       "      <td>S</td>\n",
       "      <td>0</td>\n",
       "    </tr>\n",
       "    <tr>\n",
       "      <th>3</th>\n",
       "      <td>1</td>\n",
       "      <td>Allison, Mr. Hudson Joshua Creighton</td>\n",
       "      <td>male</td>\n",
       "      <td>30.0000</td>\n",
       "      <td>1</td>\n",
       "      <td>2</td>\n",
       "      <td>113781</td>\n",
       "      <td>151.55</td>\n",
       "      <td>C22 C26</td>\n",
       "      <td>S</td>\n",
       "      <td>0</td>\n",
       "    </tr>\n",
       "    <tr>\n",
       "      <th>4</th>\n",
       "      <td>1</td>\n",
       "      <td>Allison, Mrs. Hudson J C (Bessie Waldo Daniels)</td>\n",
       "      <td>female</td>\n",
       "      <td>25.0000</td>\n",
       "      <td>1</td>\n",
       "      <td>2</td>\n",
       "      <td>113781</td>\n",
       "      <td>151.55</td>\n",
       "      <td>C22 C26</td>\n",
       "      <td>S</td>\n",
       "      <td>0</td>\n",
       "    </tr>\n",
       "  </tbody>\n",
       "</table>\n",
       "</div>"
      ],
      "text/plain": [
       "   pclass                                             name     sex      age  \\\n",
       "0       1                    Allen, Miss. Elisabeth Walton  female  29.0000   \n",
       "1       1                   Allison, Master. Hudson Trevor    male   0.9167   \n",
       "2       1                     Allison, Miss. Helen Loraine  female   2.0000   \n",
       "3       1             Allison, Mr. Hudson Joshua Creighton    male  30.0000   \n",
       "4       1  Allison, Mrs. Hudson J C (Bessie Waldo Daniels)  female  25.0000   \n",
       "\n",
       "   sibsp  parch  ticket        fare    cabin embarked  survived  \n",
       "0      0      0   24160  2113375.00       B5        S         1  \n",
       "1      1      2  113781      151.55  C22 C26        S         1  \n",
       "2      1      2  113781      151.55  C22 C26        S         0  \n",
       "3      1      2  113781      151.55  C22 C26        S         0  \n",
       "4      1      2  113781      151.55  C22 C26        S         0  "
      ]
     },
     "execution_count": 3,
     "metadata": {},
     "output_type": "execute_result"
    }
   ],
   "source": [
    "df.head()"
   ]
  },
  {
   "cell_type": "code",
   "execution_count": 4,
   "id": "f2e25bf0",
   "metadata": {},
   "outputs": [
    {
     "data": {
      "text/plain": [
       "pclass         0\n",
       "name           0\n",
       "sex            0\n",
       "age          263\n",
       "sibsp          0\n",
       "parch          0\n",
       "ticket         0\n",
       "fare           0\n",
       "cabin       1013\n",
       "embarked       2\n",
       "survived       0\n",
       "dtype: int64"
      ]
     },
     "execution_count": 4,
     "metadata": {},
     "output_type": "execute_result"
    }
   ],
   "source": [
    " df.isna().sum()"
   ]
  },
  {
   "cell_type": "code",
   "execution_count": 5,
   "id": "be80701e",
   "metadata": {},
   "outputs": [
    {
     "data": {
      "text/plain": [
       "pclass        int64\n",
       "name         object\n",
       "sex          object\n",
       "age         float64\n",
       "sibsp         int64\n",
       "parch         int64\n",
       "ticket       object\n",
       "fare        float64\n",
       "cabin        object\n",
       "embarked     object\n",
       "survived      int64\n",
       "dtype: object"
      ]
     },
     "execution_count": 5,
     "metadata": {},
     "output_type": "execute_result"
    }
   ],
   "source": [
    "df.dtypes"
   ]
  },
  {
   "cell_type": "code",
   "execution_count": 6,
   "id": "0c286817",
   "metadata": {},
   "outputs": [],
   "source": [
    "X = df[[\"pclass\",\"sex\",\"age\",\"sibsp\",\"parch\", \"ticket\",\"fare\",\"cabin\",\"embarked\"]]\n",
    "Y = df[\"survived\"]"
   ]
  },
  {
   "cell_type": "code",
   "execution_count": 7,
   "id": "b32febb3",
   "metadata": {},
   "outputs": [],
   "source": [
    "X_train, X_test, Y_train, Y_test = train_test_split(\n",
    "X,\n",
    "Y,\n",
    "test_size=0.3,\n",
    "random_state=0)"
   ]
  },
  {
   "cell_type": "code",
   "execution_count": 8,
   "id": "88a4c215",
   "metadata": {},
   "outputs": [],
   "source": [
    "X_train = pd.DataFrame(X_train, columns=[\"pclass\",\"sex\",\"age\",\"sibsp\",\"parch\", \"ticket\",\"fare\",\"cabin\",\"embarked\"])\n",
    "X_test = pd.DataFrame(X_test, columns=[\"pclass\",\"sex\",\"age\",\"sibsp\",\"parch\", \"ticket\",\"fare\",\"cabin\",\"embarked\"])\n",
    "Y_train = pd.DataFrame(Y_train, columns=[\"survived\"])\n",
    "Y_test = pd.DataFrame(Y_test, columns=[\"survived\"])"
   ]
  },
  {
   "cell_type": "code",
   "execution_count": 9,
   "id": "2dd79cd4",
   "metadata": {},
   "outputs": [
    {
     "data": {
      "text/plain": [
       "pclass        int64\n",
       "name         object\n",
       "sex          object\n",
       "age         float64\n",
       "sibsp         int64\n",
       "parch         int64\n",
       "ticket       object\n",
       "fare        float64\n",
       "cabin        object\n",
       "embarked     object\n",
       "survived      int64\n",
       "dtype: object"
      ]
     },
     "execution_count": 9,
     "metadata": {},
     "output_type": "execute_result"
    }
   ],
   "source": [
    "df.dtypes"
   ]
  },
  {
   "cell_type": "code",
   "execution_count": 10,
   "id": "447a9a50",
   "metadata": {},
   "outputs": [],
   "source": [
    "NUMERICAL_VARS_WITH_NA = [\"age\"]\n",
    "CATEGORICAL_VARS = [\"sex\"]\n",
    "DROP_FEATURES = [\"sibsp\",\"parch\",\"ticket\",\"fare\",\"cabin\",\"embarked\"]\n",
    "FEATURES = [\"pclass\",\"sex\",\"age\",]"
   ]
  },
  {
   "cell_type": "code",
   "execution_count": 11,
   "id": "36ceb0ed",
   "metadata": {},
   "outputs": [],
   "source": [
    "genero_pipe = Pipeline([\n",
    "        \n",
    "    # ===== IMPUTATION =====\n",
    "        (\"drop_features\", DropFeatures(features_to_drop=DROP_FEATURES)),\n",
    "        # add missing indicator\n",
    "        (\"missing_indicator\", AddMissingIndicator(variables=NUMERICAL_VARS_WITH_NA)),\n",
    "        # impute numerical variables with the mean\n",
    "        (\"mean_imputation\",MeanMedianImputer(\n",
    "            imputation_method=\"mean\", variables=NUMERICAL_VARS_WITH_NA\n",
    "        )),\n",
    "        (\"OHE\", OneHotEncoder(variables=CATEGORICAL_VARS, drop_last=False)),\n",
    "        (\"GaussianNB\", GaussianNB()),\n",
    "    ])"
   ]
  },
  {
   "cell_type": "code",
   "execution_count": 12,
   "id": "37d03365",
   "metadata": {},
   "outputs": [
    {
     "data": {
      "text/plain": [
       "Pipeline(steps=[('drop_features',\n",
       "                 DropFeatures(features_to_drop=['sibsp', 'parch', 'ticket',\n",
       "                                                'fare', 'cabin', 'embarked'])),\n",
       "                ('missing_indicator', AddMissingIndicator(variables=['age'])),\n",
       "                ('mean_imputation',\n",
       "                 MeanMedianImputer(imputation_method='mean',\n",
       "                                   variables=['age'])),\n",
       "                ('OHE', OneHotEncoder(variables=['sex'])),\n",
       "                ('GaussianNB', GaussianNB())])"
      ]
     },
     "execution_count": 12,
     "metadata": {},
     "output_type": "execute_result"
    }
   ],
   "source": [
    "genero_pipe.fit(X_train, Y_train.values.ravel())"
   ]
  },
  {
   "cell_type": "code",
   "execution_count": 13,
   "id": "a9f5bf7d",
   "metadata": {},
   "outputs": [],
   "source": [
    "ejemplo = pd.DataFrame([[1,1,14,2,1,1,1,1,\"S\"]], columns = [\"pclass\",\"sex\",\"age\",\"sibsp\",\"parch\", \"ticket\",\"fare\",\"cabin\",\"embarked\"])"
   ]
  },
  {
   "cell_type": "code",
   "execution_count": 14,
   "id": "5de55977",
   "metadata": {},
   "outputs": [
    {
     "name": "stdout",
     "output_type": "stream",
     "text": [
      "1\n"
     ]
    }
   ],
   "source": [
    "pred = genero_pipe.predict(ejemplo)\n",
    "print(pred[0])\n"
   ]
  },
  {
   "cell_type": "code",
   "execution_count": 15,
   "id": "dbbd00d0",
   "metadata": {},
   "outputs": [],
   "source": [
    "joblib.dump(genero_pipe, open('./cfk.pkl', 'wb'))"
   ]
  }
 ],
 "metadata": {
  "kernelspec": {
   "display_name": "Python 3 (ipykernel)",
   "language": "python",
   "name": "python3"
  },
  "language_info": {
   "codemirror_mode": {
    "name": "ipython",
    "version": 3
   },
   "file_extension": ".py",
   "mimetype": "text/x-python",
   "name": "python",
   "nbconvert_exporter": "python",
   "pygments_lexer": "ipython3",
   "version": "3.9.13"
  },
  "vscode": {
   "interpreter": {
    "hash": "40d3a090f54c6569ab1632332b64b2c03c39dcf918b08424e98f38b5ae0af88f"
   }
  }
 },
 "nbformat": 4,
 "nbformat_minor": 5
}
